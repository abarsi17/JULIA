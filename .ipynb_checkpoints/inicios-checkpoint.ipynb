{
 "cells": [
  {
   "cell_type": "markdown",
   "id": "766b63fb-c701-4565-9a87-22ac04c4c906",
   "metadata": {},
   "source": [
    "Declaración de funciones"
   ]
  },
  {
   "cell_type": "code",
   "execution_count": 6,
   "id": "bbaa7c39-295d-48e3-8765-2e087d7f315e",
   "metadata": {},
   "outputs": [
    {
     "data": {
      "text/plain": [
       "imprimir (generic function with 1 method)"
      ]
     },
     "execution_count": 6,
     "metadata": {},
     "output_type": "execute_result"
    }
   ],
   "source": [
    "function imprimir()\n",
    "    println(\"Hola mundo\")\n",
    "end"
   ]
  },
  {
   "cell_type": "code",
   "execution_count": 43,
   "id": "bbebce3d-d7bd-441e-998e-10748521269e",
   "metadata": {},
   "outputs": [
    {
     "data": {
      "text/plain": [
       "imprimirCuadrado (generic function with 1 method)"
      ]
     },
     "execution_count": 43,
     "metadata": {},
     "output_type": "execute_result"
    }
   ],
   "source": [
    "function imprimirCuadrado()\n",
    "    println(\" + \", \" - \" ^ 4, \" +\")\n",
    "    println(\" |              |\")\n",
    "    println(\" |              |\")\n",
    "    println(\" |              |\")\n",
    "    println(\" |              |\")\n",
    "    println(\" |              |\")\n",
    "    println(\" + \", \" - \" ^ 4, \" +\")\n",
    "end"
   ]
  },
  {
   "cell_type": "code",
   "execution_count": 47,
   "id": "5af044d5-47fe-4df2-927e-bf8c7491ce32",
   "metadata": {
    "collapsed": true,
    "jupyter": {
     "outputs_hidden": true
    },
    "tags": []
   },
   "outputs": [
    {
     "name": "stdout",
     "output_type": "stream",
     "text": [
      " +  -  -  -  -  +\n",
      " |              |\n",
      " |              |\n",
      " |              |\n",
      " |              |\n",
      " |              |\n",
      " +  -  -  -  -  +\n"
     ]
    }
   ],
   "source": [
    "imprimirCuadrado()"
   ]
  },
  {
   "cell_type": "code",
   "execution_count": 2,
   "id": "0b75e103-1207-4810-8630-90e9a83888b8",
   "metadata": {
    "collapsed": true,
    "jupyter": {
     "outputs_hidden": true
    },
    "tags": []
   },
   "outputs": [
    {
     "name": "stderr",
     "output_type": "stream",
     "text": [
      "┌ Info: Precompiling IntroAJulia [196a5f1a-c2cd-11e9-0ac3-8b12d691bf53]\n",
      "└ @ Base loading.jl:1423\n",
      "┌ Info: Skipping precompilation since __precompile__(false). Importing IntroAJulia [196a5f1a-c2cd-11e9-0ac3-8b12d691bf53].\n",
      "└ @ Base loading.jl:1124\n"
     ]
    }
   ],
   "source": [
    "using IntroAJulia"
   ]
  },
  {
   "cell_type": "code",
   "execution_count": 7,
   "id": "d2a5dca5-caed-4de5-9f7f-ff00fa1c4599",
   "metadata": {},
   "outputs": [
    {
     "data": {
      "text/plain": [
       "Turtle(0.0, 0.0, true, 0.0, (0.0, 0.0, 0.0))"
      ]
     },
     "execution_count": 7,
     "metadata": {},
     "output_type": "execute_result"
    }
   ],
   "source": [
    "🐢 = Turtle()"
   ]
  },
  {
   "cell_type": "code",
   "execution_count": 8,
   "id": "e8d2171f-ceb1-4bbf-9268-447894c4d277",
   "metadata": {},
   "outputs": [
    {
     "data": {
      "image/svg+xml": [
       "<?xml version=\"1.0\" encoding=\"UTF-8\"?>\n",
       "<svg xmlns=\"http://www.w3.org/2000/svg\" xmlns:xlink=\"http://www.w3.org/1999/xlink\" width=\"600pt\" height=\"600pt\" viewBox=\"0 0 600 600\" version=\"1.1\">\n",
       "<g id=\"surface16\">\n",
       "<rect x=\"0\" y=\"0\" width=\"600\" height=\"600\" style=\"fill:rgb(100%,100%,100%);fill-opacity:1;stroke:none;\"/>\n",
       "<path style=\"fill:none;stroke-width:2;stroke-linecap:butt;stroke-linejoin:miter;stroke:rgb(0%,0%,0%);stroke-opacity:1;stroke-miterlimit:10;\" d=\"M 300 300 L 310 300 \"/>\n",
       "</g>\n",
       "</svg>\n"
      ],
      "text/plain": []
     },
     "execution_count": 8,
     "metadata": {},
     "output_type": "execute_result"
    }
   ],
   "source": [
    "@svg begin\n",
    "    forward(🐢, 10)\n",
    "end"
   ]
  },
  {
   "cell_type": "code",
   "execution_count": null,
   "id": "5e1e24f9-0be8-4c48-b480-280b58c22988",
   "metadata": {},
   "outputs": [],
   "source": []
  }
 ],
 "metadata": {
  "kernelspec": {
   "display_name": "Julia 1.7.1",
   "language": "julia",
   "name": "julia-1.7"
  },
  "language_info": {
   "file_extension": ".jl",
   "mimetype": "application/julia",
   "name": "julia",
   "version": "1.7.1"
  }
 },
 "nbformat": 4,
 "nbformat_minor": 5
}
