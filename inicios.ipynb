{
 "cells": [
  {
   "cell_type": "markdown",
   "id": "766b63fb-c701-4565-9a87-22ac04c4c906",
   "metadata": {},
   "source": [
    "Declaración de funciones"
   ]
  },
  {
   "cell_type": "code",
   "execution_count": 6,
   "id": "bbaa7c39-295d-48e3-8765-2e087d7f315e",
   "metadata": {},
   "outputs": [
    {
     "data": {
      "text/plain": [
       "imprimir (generic function with 1 method)"
      ]
     },
     "execution_count": 6,
     "metadata": {},
     "output_type": "execute_result"
    }
   ],
   "source": [
    "function imprimir()\n",
    "    println(\"Hola mundo\")\n",
    "end"
   ]
  },
  {
   "cell_type": "code",
   "execution_count": 43,
   "id": "bbebce3d-d7bd-441e-998e-10748521269e",
   "metadata": {
    "collapsed": true,
    "jupyter": {
     "outputs_hidden": true
    },
    "tags": []
   },
   "outputs": [
    {
     "data": {
      "text/plain": [
       "imprimirCuadrado (generic function with 1 method)"
      ]
     },
     "execution_count": 43,
     "metadata": {},
     "output_type": "execute_result"
    }
   ],
   "source": [
    "function imprimirCuadrado()\n",
    "    println(\" + \", \" - \" ^ 4, \" +\")\n",
    "    println(\" |              |\")\n",
    "    println(\" |              |\")\n",
    "    println(\" |              |\")\n",
    "    println(\" |              |\")\n",
    "    println(\" |              |\")\n",
    "    println(\" + \", \" - \" ^ 4, \" +\")\n",
    "end"
   ]
  },
  {
   "cell_type": "code",
   "execution_count": 47,
   "id": "5af044d5-47fe-4df2-927e-bf8c7491ce32",
   "metadata": {
    "collapsed": true,
    "jupyter": {
     "outputs_hidden": true
    },
    "tags": []
   },
   "outputs": [
    {
     "name": "stdout",
     "output_type": "stream",
     "text": [
      " +  -  -  -  -  +\n",
      " |              |\n",
      " |              |\n",
      " |              |\n",
      " |              |\n",
      " |              |\n",
      " +  -  -  -  -  +\n"
     ]
    }
   ],
   "source": [
    "imprimirCuadrado()"
   ]
  },
  {
   "cell_type": "code",
   "execution_count": 2,
   "id": "0b75e103-1207-4810-8630-90e9a83888b8",
   "metadata": {
    "collapsed": true,
    "jupyter": {
     "outputs_hidden": true
    },
    "tags": []
   },
   "outputs": [
    {
     "name": "stderr",
     "output_type": "stream",
     "text": [
      "┌ Info: Precompiling IntroAJulia [196a5f1a-c2cd-11e9-0ac3-8b12d691bf53]\n",
      "└ @ Base loading.jl:1423\n",
      "┌ Info: Skipping precompilation since __precompile__(false). Importing IntroAJulia [196a5f1a-c2cd-11e9-0ac3-8b12d691bf53].\n",
      "└ @ Base loading.jl:1124\n"
     ]
    }
   ],
   "source": [
    "using IntroAJulia"
   ]
  },
  {
   "cell_type": "code",
   "execution_count": 3,
   "id": "d2a5dca5-caed-4de5-9f7f-ff00fa1c4599",
   "metadata": {},
   "outputs": [
    {
     "data": {
      "text/plain": [
       "Turtle(0.0, 0.0, true, 0.0, (0.0, 0.0, 0.0))"
      ]
     },
     "execution_count": 3,
     "metadata": {},
     "output_type": "execute_result"
    }
   ],
   "source": [
    "🐢 = Turtle()"
   ]
  },
  {
   "cell_type": "code",
   "execution_count": 19,
   "id": "2a17b177-c5f3-4e3c-96ef-9471bdd02a0c",
   "metadata": {},
   "outputs": [
    {
     "data": {
      "image/svg+xml": [
       "<?xml version=\"1.0\" encoding=\"UTF-8\"?>\n",
       "<svg xmlns=\"http://www.w3.org/2000/svg\" xmlns:xlink=\"http://www.w3.org/1999/xlink\" width=\"600pt\" height=\"600pt\" viewBox=\"0 0 600 600\" version=\"1.1\">\n",
       "<g id=\"surface61\">\n",
       "<rect x=\"0\" y=\"0\" width=\"600\" height=\"600\" style=\"fill:rgb(100%,100%,100%);fill-opacity:1;stroke:none;\"/>\n",
       "<path style=\"fill:none;stroke-width:2;stroke-linecap:butt;stroke-linejoin:miter;stroke:rgb(0%,0%,0%);stroke-opacity:1;stroke-miterlimit:10;\" d=\"M 310 300 L 410 300 \"/>\n",
       "<path style=\"fill:none;stroke-width:2;stroke-linecap:butt;stroke-linejoin:miter;stroke:rgb(0%,0%,0%);stroke-opacity:1;stroke-miterlimit:10;\" d=\"M 410 300 L 410 200 \"/>\n",
       "<path style=\"fill:none;stroke-width:2;stroke-linecap:butt;stroke-linejoin:miter;stroke:rgb(0%,0%,0%);stroke-opacity:1;stroke-miterlimit:10;\" d=\"M 410 200 L 310 200 \"/>\n",
       "<path style=\"fill:none;stroke-width:2;stroke-linecap:butt;stroke-linejoin:miter;stroke:rgb(0%,0%,0%);stroke-opacity:1;stroke-miterlimit:10;\" d=\"M 310 200 L 310 300 \"/>\n",
       "</g>\n",
       "</svg>\n"
      ],
      "text/plain": []
     },
     "execution_count": 19,
     "metadata": {},
     "output_type": "execute_result"
    }
   ],
   "source": [
    "@svg begin\n",
    "    for i in 1:4\n",
    "        forward(🐢, 100)\n",
    "        turn(🐢, -90)\n",
    "    end\n",
    "end"
   ]
  },
  {
   "cell_type": "code",
   "execution_count": 20,
   "id": "238b812d-542a-48b0-a53e-6629d168195e",
   "metadata": {},
   "outputs": [
    {
     "data": {
      "text/plain": [
       "6"
      ]
     },
     "execution_count": 20,
     "metadata": {},
     "output_type": "execute_result"
    }
   ],
   "source": [
    "x = 5\n",
    "y = 6\n"
   ]
  },
  {
   "cell_type": "markdown",
   "id": "d4a90b52-356d-4def-92e1-14c4ca0feb2d",
   "metadata": {},
   "source": [
    "Para declarar funciones"
   ]
  },
  {
   "cell_type": "code",
   "execution_count": 22,
   "id": "7c860669-57e2-4941-a484-7f205ece9d5c",
   "metadata": {},
   "outputs": [
    {
     "name": "stdout",
     "output_type": "stream",
     "text": [
      "x es menor que y\n"
     ]
    }
   ],
   "source": [
    "if x == y\n",
    "    println(\"Son iguales\")\n",
    "    \n",
    "elseif x > y\n",
    "    println(\"x es mayor que y\")\n",
    "    \n",
    "else\n",
    "    println(\"x es menor que y\")\n",
    "end"
   ]
  },
  {
   "cell_type": "code",
   "execution_count": 25,
   "id": "da1ac50e-2056-48dd-858a-f5169f036073",
   "metadata": {},
   "outputs": [
    {
     "data": {
      "image/svg+xml": [
       "<?xml version=\"1.0\" encoding=\"UTF-8\"?>\n",
       "<svg xmlns=\"http://www.w3.org/2000/svg\" xmlns:xlink=\"http://www.w3.org/1999/xlink\" width=\"600pt\" height=\"600pt\" viewBox=\"0 0 600 600\" version=\"1.1\">\n",
       "<g id=\"surface74\">\n",
       "<rect x=\"0\" y=\"0\" width=\"600\" height=\"600\" style=\"fill:rgb(100%,100%,100%);fill-opacity:1;stroke:none;\"/>\n",
       "<path style=\"fill:none;stroke-width:2;stroke-linecap:butt;stroke-linejoin:miter;stroke:rgb(0%,0%,0%);stroke-opacity:1;stroke-miterlimit:10;\" d=\"M 310 300 L 380 300 \"/>\n",
       "<path style=\"fill:none;stroke-width:2;stroke-linecap:butt;stroke-linejoin:miter;stroke:rgb(0%,0%,0%);stroke-opacity:1;stroke-miterlimit:10;\" d=\"M 380 300 L 423.644531 245.273438 \"/>\n",
       "<path style=\"fill:none;stroke-width:2;stroke-linecap:butt;stroke-linejoin:miter;stroke:rgb(0%,0%,0%);stroke-opacity:1;stroke-miterlimit:10;\" d=\"M 423.644531 245.273438 L 408.066406 177.027344 \"/>\n",
       "<path style=\"fill:none;stroke-width:2;stroke-linecap:butt;stroke-linejoin:miter;stroke:rgb(0%,0%,0%);stroke-opacity:1;stroke-miterlimit:10;\" d=\"M 408.066406 177.027344 L 345 146.65625 \"/>\n",
       "<path style=\"fill:none;stroke-width:2;stroke-linecap:butt;stroke-linejoin:miter;stroke:rgb(0%,0%,0%);stroke-opacity:1;stroke-miterlimit:10;\" d=\"M 345 146.65625 L 281.933594 177.027344 \"/>\n",
       "<path style=\"fill:none;stroke-width:2;stroke-linecap:butt;stroke-linejoin:miter;stroke:rgb(0%,0%,0%);stroke-opacity:1;stroke-miterlimit:10;\" d=\"M 281.933594 177.027344 L 266.355469 245.273438 \"/>\n",
       "<path style=\"fill:none;stroke-width:2;stroke-linecap:butt;stroke-linejoin:miter;stroke:rgb(0%,0%,0%);stroke-opacity:1;stroke-miterlimit:10;\" d=\"M 266.355469 245.273438 L 310 300 \"/>\n",
       "</g>\n",
       "</svg>\n"
      ],
      "text/plain": []
     },
     "execution_count": 25,
     "metadata": {},
     "output_type": "execute_result"
    }
   ],
   "source": [
    "function poligono(t, n, lon)\n",
    "    angulo = 360 / n\n",
    "    for i in 1:n\n",
    "        forward(t, lon)\n",
    "        turn(t, -angulo)\n",
    "    end\n",
    "end\n",
    "@svg begin\n",
    "    poligono(🐢, 7, 70)\n",
    "end"
   ]
  },
  {
   "cell_type": "markdown",
   "id": "2fe09a39-de51-4e41-b1c2-6cb1ca0c5e4c",
   "metadata": {},
   "source": [
    "ENTRADA POR TECLADO"
   ]
  },
  {
   "cell_type": "code",
   "execution_count": 1,
   "id": "644c5791-f030-488e-bd23-a081fc0a7055",
   "metadata": {},
   "outputs": [
    {
     "name": "stdin",
     "output_type": "stream",
     "text": [
      "stdin>  Hola mundo\n"
     ]
    },
    {
     "data": {
      "text/plain": [
       "\"Hola mundo\""
      ]
     },
     "execution_count": 1,
     "metadata": {},
     "output_type": "execute_result"
    }
   ],
   "source": [
    "text = readline()"
   ]
  },
  {
   "cell_type": "code",
   "execution_count": 3,
   "id": "45bf663d-2ab9-4bec-ae4e-3d1974b6b1c7",
   "metadata": {},
   "outputs": [
    {
     "name": "stdin",
     "output_type": "stream",
     "text": [
      "stdin>  Jesus\n"
     ]
    },
    {
     "name": "stdout",
     "output_type": "stream",
     "text": [
      "Por favor introduzca su nombre\n"
     ]
    },
    {
     "data": {
      "text/plain": [
       "\"Jesus\""
      ]
     },
     "execution_count": 3,
     "metadata": {},
     "output_type": "execute_result"
    }
   ],
   "source": [
    "println(\"Por favor introduzca su nombre\"); readline()"
   ]
  },
  {
   "cell_type": "markdown",
   "id": "6089386f-3ca2-456c-8932-171b0a96c9b6",
   "metadata": {},
   "source": [
    "FUNCIÓN RECURSIVA -> FACTORIAL"
   ]
  },
  {
   "cell_type": "code",
   "execution_count": 5,
   "id": "79cf2ee6-4066-4a17-b935-0f660d0cc521",
   "metadata": {
    "tags": []
   },
   "outputs": [
    {
     "name": "stdout",
     "output_type": "stream",
     "text": [
      "El factorial de 5 es 120\n"
     ]
    }
   ],
   "source": [
    "function fact(n)\n",
    "    if n== 0\n",
    "        return 1\n",
    "    end\n",
    "    \n",
    "    if n > 0\n",
    "        return n * fact(n-1)\n",
    "    end\n",
    "end\n",
    "\n",
    "println(\"El factorial de 5 es \", fact(5))\n",
    "    "
   ]
  },
  {
   "cell_type": "markdown",
   "id": "557062e8-ed87-4f69-8390-0f7b4432d598",
   "metadata": {},
   "source": [
    "Utilizando la función de Ackermann, que es una función recursiva"
   ]
  },
  {
   "cell_type": "code",
   "execution_count": 7,
   "id": "7fc07ac1-7819-48eb-9880-31dbfc76c077",
   "metadata": {},
   "outputs": [
    {
     "name": "stdout",
     "output_type": "stream",
     "text": [
      "La función ackermann de m = 3, n = 4 es igual a: 125\n"
     ]
    }
   ],
   "source": [
    "function ackermann(m, n)\n",
    "    if m == 0\n",
    "        return n + 1\n",
    "    end\n",
    "    if m > 0 && n == 0\n",
    "        return ackermann(m-1, 1)\n",
    "    end\n",
    "    if m > 0 && n > 0\n",
    "        return ackermann(m - 1, ackermann(m, n - 1))\n",
    "    end\n",
    "end\n",
    "\n",
    "println(\"La función ackermann de m = 3, n = 4 es igual a: \", ackermann(3,4)) "
   ]
  },
  {
   "cell_type": "markdown",
   "id": "9c5bbf68-1e66-4424-99f2-0ce72f811d80",
   "metadata": {},
   "source": [
    "SENTENCIA WHILE"
   ]
  },
  {
   "cell_type": "code",
   "execution_count": 9,
   "id": "1bf34faa-82f3-4dfd-845d-7153fc881a4f",
   "metadata": {},
   "outputs": [
    {
     "name": "stdout",
     "output_type": "stream",
     "text": [
      "4 3 2 1 "
     ]
    }
   ],
   "source": [
    "function cuentaRegresiva(n)\n",
    "    while n > 0\n",
    "        print(n, \" \")\n",
    "        n -= 1\n",
    "    end\n",
    "end\n",
    "\n",
    "cuentaRegresiva(4)"
   ]
  },
  {
   "cell_type": "markdown",
   "id": "5128148d-e389-4d6d-b458-5961eb9615a3",
   "metadata": {},
   "source": [
    "UTILIZANDO LAS SENTENCIAS CONTINUE Y BREAK"
   ]
  },
  {
   "cell_type": "code",
   "execution_count": 12,
   "id": "7b7fa322-2750-4d2a-a725-ce6e7427b949",
   "metadata": {},
   "outputs": [
    {
     "name": "stdout",
     "output_type": "stream",
     "text": [
      "1 2 4 5 7 8 10 "
     ]
    }
   ],
   "source": [
    "for i in 1:10\n",
    "    if i % 3 == 0\n",
    "        continue\n",
    "    end\n",
    "    print(i, \" \")\n",
    "end"
   ]
  },
  {
   "cell_type": "code",
   "execution_count": 13,
   "id": "8e6ce673-0cc8-4190-a45e-62e5cc331767",
   "metadata": {},
   "outputs": [
    {
     "name": "stdout",
     "output_type": "stream",
     "text": [
      "1 2 "
     ]
    }
   ],
   "source": [
    "for i in 1:10\n",
    "    if i % 3 == 0\n",
    "        break\n",
    "    end\n",
    "    print(i, \" \")\n",
    "end"
   ]
  },
  {
   "cell_type": "markdown",
   "id": "f427fdbf-ae06-4984-a79e-7663c62cb5d7",
   "metadata": {},
   "source": [
    "CADENAS"
   ]
  },
  {
   "cell_type": "code",
   "execution_count": 21,
   "id": "4a091f0a-4e3e-42c8-b74e-a7c81d2a6108",
   "metadata": {},
   "outputs": [
    {
     "name": "stdout",
     "output_type": "stream",
     "text": [
      "1\n",
      "2\n",
      "3\n",
      "4\n",
      "6\n"
     ]
    }
   ],
   "source": [
    "cadena = (1, 2, 3, 4, 6)\n",
    "for elem in cadena\n",
    "    println(elem)\n",
    "end"
   ]
  },
  {
   "cell_type": "markdown",
   "id": "58449c84-0a1d-4546-8fb7-364fca3453df",
   "metadata": {},
   "source": [
    "PARA LEER DE UN ARCHIVO DE TEXTO"
   ]
  },
  {
   "cell_type": "code",
   "execution_count": 40,
   "id": "e1ef0477-2a15-4452-87d0-8331b80663ea",
   "metadata": {},
   "outputs": [
    {
     "name": "stdout",
     "output_type": "stream",
     "text": [
      "analisi\n",
      "barco\n",
      "casa\n",
      "decada\n",
      "elena\n",
      "fuego\n",
      "gato\n",
      "hecho\n",
      "indio\n",
      "juego\n",
      "kaki\n",
      "luego\n"
     ]
    },
    {
     "data": {
      "text/plain": [
       "\"analisi\""
      ]
     },
     "execution_count": 40,
     "metadata": {},
     "output_type": "execute_result"
    }
   ],
   "source": [
    "for linea in eachline(\"palabras.txt\")\n",
    "   println(linea) \n",
    "end"
   ]
  },
  {
   "cell_type": "markdown",
   "id": "6c150b9b-523a-42b0-aebb-e0723900fd48",
   "metadata": {},
   "source": [
    "ARRAYS"
   ]
  },
  {
   "cell_type": "code",
   "execution_count": 42,
   "id": "b437ee45-d40e-4d9d-b36c-494574f6d605",
   "metadata": {},
   "outputs": [
    {
     "data": {
      "text/plain": [
       "3-element Vector{String}:\n",
       " \"Cheddar\"\n",
       " \"Edam\"\n",
       " \"Gouda\""
      ]
     },
     "execution_count": 42,
     "metadata": {},
     "output_type": "execute_result"
    }
   ],
   "source": [
    "quesos = [\"Cheddar\", \"Edam\", \"Gouda\"]"
   ]
  },
  {
   "cell_type": "code",
   "execution_count": 43,
   "id": "56144099-fd2b-4fec-aa65-2402e762f1b0",
   "metadata": {},
   "outputs": [
    {
     "name": "stdout",
     "output_type": "stream",
     "text": [
      "Cheddar\n",
      "Edam\n",
      "Gouda\n"
     ]
    }
   ],
   "source": [
    "for queso in quesos\n",
    "    println(queso)\n",
    "end"
   ]
  },
  {
   "cell_type": "code",
   "execution_count": null,
   "id": "81f35fdd-24cb-4fdc-9bd6-85fdf5173937",
   "metadata": {},
   "outputs": [],
   "source": []
  }
 ],
 "metadata": {
  "kernelspec": {
   "display_name": "Julia 1.7.1",
   "language": "julia",
   "name": "julia-1.7"
  },
  "language_info": {
   "file_extension": ".jl",
   "mimetype": "application/julia",
   "name": "julia",
   "version": "1.7.1"
  }
 },
 "nbformat": 4,
 "nbformat_minor": 5
}
