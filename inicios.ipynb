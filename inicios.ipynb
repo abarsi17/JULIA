{
 "cells": [
  {
   "cell_type": "markdown",
   "id": "3d97f0e6-a763-4fb5-9efd-b57e42c1466c",
   "metadata": {},
   "source": []
  }
 ],
 "metadata": {
  "kernelspec": {
   "display_name": "Julia 1.7.1",
   "language": "julia",
   "name": "julia-1.7"
  },
  "language_info": {
   "file_extension": ".jl",
   "mimetype": "application/julia",
   "name": "julia",
   "version": "1.7.1"
  }
 },
 "nbformat": 4,
 "nbformat_minor": 5
}
