{
 "cells": [
  {
   "cell_type": "markdown",
   "id": "766b63fb-c701-4565-9a87-22ac04c4c906",
   "metadata": {},
   "source": [
    "Declaración de funciones"
   ]
  },
  {
   "cell_type": "code",
   "execution_count": 6,
   "id": "bbaa7c39-295d-48e3-8765-2e087d7f315e",
   "metadata": {},
   "outputs": [
    {
     "data": {
      "text/plain": [
       "imprimir (generic function with 1 method)"
      ]
     },
     "execution_count": 6,
     "metadata": {},
     "output_type": "execute_result"
    }
   ],
   "source": [
    "function imprimir()\n",
    "    println(\"Hola mundo\")\n",
    "end"
   ]
  },
  {
   "cell_type": "code",
   "execution_count": 43,
   "id": "bbebce3d-d7bd-441e-998e-10748521269e",
   "metadata": {
    "collapsed": true,
    "jupyter": {
     "outputs_hidden": true
    },
    "tags": []
   },
   "outputs": [
    {
     "data": {
      "text/plain": [
       "imprimirCuadrado (generic function with 1 method)"
      ]
     },
     "execution_count": 43,
     "metadata": {},
     "output_type": "execute_result"
    }
   ],
   "source": [
    "function imprimirCuadrado()\n",
    "    println(\" + \", \" - \" ^ 4, \" +\")\n",
    "    println(\" |              |\")\n",
    "    println(\" |              |\")\n",
    "    println(\" |              |\")\n",
    "    println(\" |              |\")\n",
    "    println(\" |              |\")\n",
    "    println(\" + \", \" - \" ^ 4, \" +\")\n",
    "end"
   ]
  },
  {
   "cell_type": "code",
   "execution_count": 47,
   "id": "5af044d5-47fe-4df2-927e-bf8c7491ce32",
   "metadata": {
    "collapsed": true,
    "jupyter": {
     "outputs_hidden": true
    },
    "tags": []
   },
   "outputs": [
    {
     "name": "stdout",
     "output_type": "stream",
     "text": [
      " +  -  -  -  -  +\n",
      " |              |\n",
      " |              |\n",
      " |              |\n",
      " |              |\n",
      " |              |\n",
      " +  -  -  -  -  +\n"
     ]
    }
   ],
   "source": [
    "imprimirCuadrado()"
   ]
  },
  {
   "cell_type": "code",
   "execution_count": 2,
   "id": "0b75e103-1207-4810-8630-90e9a83888b8",
   "metadata": {
    "collapsed": true,
    "jupyter": {
     "outputs_hidden": true
    },
    "tags": []
   },
   "outputs": [
    {
     "name": "stderr",
     "output_type": "stream",
     "text": [
      "┌ Info: Precompiling IntroAJulia [196a5f1a-c2cd-11e9-0ac3-8b12d691bf53]\n",
      "└ @ Base loading.jl:1423\n",
      "┌ Info: Skipping precompilation since __precompile__(false). Importing IntroAJulia [196a5f1a-c2cd-11e9-0ac3-8b12d691bf53].\n",
      "└ @ Base loading.jl:1124\n"
     ]
    }
   ],
   "source": [
    "using IntroAJulia"
   ]
  },
  {
   "cell_type": "code",
   "execution_count": 3,
   "id": "d2a5dca5-caed-4de5-9f7f-ff00fa1c4599",
   "metadata": {},
   "outputs": [
    {
     "data": {
      "text/plain": [
       "Turtle(0.0, 0.0, true, 0.0, (0.0, 0.0, 0.0))"
      ]
     },
     "execution_count": 3,
     "metadata": {},
     "output_type": "execute_result"
    }
   ],
   "source": [
    "🐢 = Turtle()"
   ]
  },
  {
   "cell_type": "code",
   "execution_count": 19,
   "id": "2a17b177-c5f3-4e3c-96ef-9471bdd02a0c",
   "metadata": {},
   "outputs": [
    {
     "data": {
      "image/svg+xml": [
       "<?xml version=\"1.0\" encoding=\"UTF-8\"?>\n",
       "<svg xmlns=\"http://www.w3.org/2000/svg\" xmlns:xlink=\"http://www.w3.org/1999/xlink\" width=\"600pt\" height=\"600pt\" viewBox=\"0 0 600 600\" version=\"1.1\">\n",
       "<g id=\"surface61\">\n",
       "<rect x=\"0\" y=\"0\" width=\"600\" height=\"600\" style=\"fill:rgb(100%,100%,100%);fill-opacity:1;stroke:none;\"/>\n",
       "<path style=\"fill:none;stroke-width:2;stroke-linecap:butt;stroke-linejoin:miter;stroke:rgb(0%,0%,0%);stroke-opacity:1;stroke-miterlimit:10;\" d=\"M 310 300 L 410 300 \"/>\n",
       "<path style=\"fill:none;stroke-width:2;stroke-linecap:butt;stroke-linejoin:miter;stroke:rgb(0%,0%,0%);stroke-opacity:1;stroke-miterlimit:10;\" d=\"M 410 300 L 410 200 \"/>\n",
       "<path style=\"fill:none;stroke-width:2;stroke-linecap:butt;stroke-linejoin:miter;stroke:rgb(0%,0%,0%);stroke-opacity:1;stroke-miterlimit:10;\" d=\"M 410 200 L 310 200 \"/>\n",
       "<path style=\"fill:none;stroke-width:2;stroke-linecap:butt;stroke-linejoin:miter;stroke:rgb(0%,0%,0%);stroke-opacity:1;stroke-miterlimit:10;\" d=\"M 310 200 L 310 300 \"/>\n",
       "</g>\n",
       "</svg>\n"
      ],
      "text/plain": []
     },
     "execution_count": 19,
     "metadata": {},
     "output_type": "execute_result"
    }
   ],
   "source": [
    "@svg begin\n",
    "    for i in 1:4\n",
    "        forward(🐢, 100)\n",
    "        turn(🐢, -90)\n",
    "    end\n",
    "end"
   ]
  },
  {
   "cell_type": "code",
   "execution_count": 20,
   "id": "238b812d-542a-48b0-a53e-6629d168195e",
   "metadata": {},
   "outputs": [
    {
     "data": {
      "text/plain": [
       "6"
      ]
     },
     "execution_count": 20,
     "metadata": {},
     "output_type": "execute_result"
    }
   ],
   "source": [
    "x = 5\n",
    "y = 6\n"
   ]
  },
  {
   "cell_type": "code",
   "execution_count": 22,
   "id": "7c860669-57e2-4941-a484-7f205ece9d5c",
   "metadata": {},
   "outputs": [
    {
     "name": "stdout",
     "output_type": "stream",
     "text": [
      "x es menor que y\n"
     ]
    }
   ],
   "source": [
    "if x == y\n",
    "    println(\"Son iguales\")\n",
    "    \n",
    "elseif x > y\n",
    "    println(\"x es mayor que y\")\n",
    "    \n",
    "else\n",
    "    println(\"x es menor que y\")\n",
    "end"
   ]
  },
  {
   "cell_type": "code",
   "execution_count": 25,
   "id": "da1ac50e-2056-48dd-858a-f5169f036073",
   "metadata": {},
   "outputs": [
    {
     "data": {
      "image/svg+xml": [
       "<?xml version=\"1.0\" encoding=\"UTF-8\"?>\n",
       "<svg xmlns=\"http://www.w3.org/2000/svg\" xmlns:xlink=\"http://www.w3.org/1999/xlink\" width=\"600pt\" height=\"600pt\" viewBox=\"0 0 600 600\" version=\"1.1\">\n",
       "<g id=\"surface74\">\n",
       "<rect x=\"0\" y=\"0\" width=\"600\" height=\"600\" style=\"fill:rgb(100%,100%,100%);fill-opacity:1;stroke:none;\"/>\n",
       "<path style=\"fill:none;stroke-width:2;stroke-linecap:butt;stroke-linejoin:miter;stroke:rgb(0%,0%,0%);stroke-opacity:1;stroke-miterlimit:10;\" d=\"M 310 300 L 380 300 \"/>\n",
       "<path style=\"fill:none;stroke-width:2;stroke-linecap:butt;stroke-linejoin:miter;stroke:rgb(0%,0%,0%);stroke-opacity:1;stroke-miterlimit:10;\" d=\"M 380 300 L 423.644531 245.273438 \"/>\n",
       "<path style=\"fill:none;stroke-width:2;stroke-linecap:butt;stroke-linejoin:miter;stroke:rgb(0%,0%,0%);stroke-opacity:1;stroke-miterlimit:10;\" d=\"M 423.644531 245.273438 L 408.066406 177.027344 \"/>\n",
       "<path style=\"fill:none;stroke-width:2;stroke-linecap:butt;stroke-linejoin:miter;stroke:rgb(0%,0%,0%);stroke-opacity:1;stroke-miterlimit:10;\" d=\"M 408.066406 177.027344 L 345 146.65625 \"/>\n",
       "<path style=\"fill:none;stroke-width:2;stroke-linecap:butt;stroke-linejoin:miter;stroke:rgb(0%,0%,0%);stroke-opacity:1;stroke-miterlimit:10;\" d=\"M 345 146.65625 L 281.933594 177.027344 \"/>\n",
       "<path style=\"fill:none;stroke-width:2;stroke-linecap:butt;stroke-linejoin:miter;stroke:rgb(0%,0%,0%);stroke-opacity:1;stroke-miterlimit:10;\" d=\"M 281.933594 177.027344 L 266.355469 245.273438 \"/>\n",
       "<path style=\"fill:none;stroke-width:2;stroke-linecap:butt;stroke-linejoin:miter;stroke:rgb(0%,0%,0%);stroke-opacity:1;stroke-miterlimit:10;\" d=\"M 266.355469 245.273438 L 310 300 \"/>\n",
       "</g>\n",
       "</svg>\n"
      ],
      "text/plain": []
     },
     "execution_count": 25,
     "metadata": {},
     "output_type": "execute_result"
    }
   ],
   "source": [
    "function poligono(t, n, lon)\n",
    "    angulo = 360 / n\n",
    "    for i in 1:n\n",
    "        forward(t, lon)\n",
    "        turn(t, -angulo)\n",
    "    end\n",
    "end\n",
    "@svg begin\n",
    "    poligono(🐢, 7, 70)\n",
    "end"
   ]
  },
  {
   "cell_type": "code",
   "execution_count": null,
   "id": "c31daa8b-2086-49d6-a50b-abafeb961c9f",
   "metadata": {},
   "outputs": [],
   "source": []
  }
 ],
 "metadata": {
  "kernelspec": {
   "display_name": "Julia 1.7.1",
   "language": "julia",
   "name": "julia-1.7"
  },
  "language_info": {
   "file_extension": ".jl",
   "mimetype": "application/julia",
   "name": "julia",
   "version": "1.7.1"
  }
 },
 "nbformat": 4,
 "nbformat_minor": 5
}
